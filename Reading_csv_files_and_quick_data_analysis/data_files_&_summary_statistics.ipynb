{
 "cells": [
  {
   "cell_type": "markdown",
   "id": "43f9befe",
   "metadata": {},
   "source": [
    "# Data files and summary statistics "
   ]
  },
  {
   "cell_type": "markdown",
   "id": "c3e35272",
   "metadata": {},
   "source": [
    "Import csv library to facilitate the manipulation of the files"
   ]
  },
  {
   "cell_type": "code",
   "execution_count": 1,
   "id": "1ddbb477",
   "metadata": {},
   "outputs": [],
   "source": [
    "import csv"
   ]
  },
  {
   "cell_type": "markdown",
   "id": "1dfbc26c",
   "metadata": {},
   "source": [
    "Open the file and assign the content to a list of dictionaries with the keys being the columns' labels and the values are the cell values "
   ]
  },
  {
   "cell_type": "code",
   "execution_count": 6,
   "id": "58bee599",
   "metadata": {},
   "outputs": [
    {
     "data": {
      "text/plain": [
       "[{'': '1',\n",
       "  'manufacturer': 'audi',\n",
       "  'model': 'a4',\n",
       "  'displ': '1.8',\n",
       "  'year': '1999',\n",
       "  'cyl': '4',\n",
       "  'trans': 'auto(l5)',\n",
       "  'drv': 'f',\n",
       "  'cty': '18',\n",
       "  'hwy': '29',\n",
       "  'fl': 'p',\n",
       "  'class': 'compact'},\n",
       " {'': '2',\n",
       "  'manufacturer': 'audi',\n",
       "  'model': 'a4',\n",
       "  'displ': '1.8',\n",
       "  'year': '1999',\n",
       "  'cyl': '4',\n",
       "  'trans': 'manual(m5)',\n",
       "  'drv': 'f',\n",
       "  'cty': '21',\n",
       "  'hwy': '29',\n",
       "  'fl': 'p',\n",
       "  'class': 'compact'},\n",
       " {'': '3',\n",
       "  'manufacturer': 'audi',\n",
       "  'model': 'a4',\n",
       "  'displ': '2',\n",
       "  'year': '2008',\n",
       "  'cyl': '4',\n",
       "  'trans': 'manual(m6)',\n",
       "  'drv': 'f',\n",
       "  'cty': '20',\n",
       "  'hwy': '31',\n",
       "  'fl': 'p',\n",
       "  'class': 'compact'}]"
      ]
     },
     "execution_count": 6,
     "metadata": {},
     "output_type": "execute_result"
    }
   ],
   "source": [
    "#set the precision to 2 digits\n",
    "%precision 2\n",
    "\n",
    "with open('../../assets/mpg.csv') as csvfile:\n",
    "    mpg = list(csv.DictReader(csvfile))\n",
    "\n",
    "#display a portion of the list \n",
    "mpg[:3]"
   ]
  },
  {
   "cell_type": "code",
   "execution_count": 7,
   "id": "e62eb583",
   "metadata": {},
   "outputs": [
    {
     "data": {
      "text/plain": [
       "234"
      ]
     },
     "execution_count": 7,
     "metadata": {},
     "output_type": "execute_result"
    }
   ],
   "source": [
    "len(mpg)"
   ]
  },
  {
   "cell_type": "code",
   "execution_count": 8,
   "id": "1609b986",
   "metadata": {},
   "outputs": [],
   "source": [
    "#figure out the columns' labels"
   ]
  },
  {
   "cell_type": "code",
   "execution_count": 9,
   "id": "f33cf86a",
   "metadata": {},
   "outputs": [
    {
     "data": {
      "text/plain": [
       "dict_keys(['', 'manufacturer', 'model', 'displ', 'year', 'cyl', 'trans', 'drv', 'cty', 'hwy', 'fl', 'class'])"
      ]
     },
     "execution_count": 9,
     "metadata": {},
     "output_type": "execute_result"
    }
   ],
   "source": [
    "mpg[0].keys()"
   ]
  },
  {
   "cell_type": "code",
   "execution_count": 10,
   "id": "ca65ce8d",
   "metadata": {},
   "outputs": [
    {
     "data": {
      "text/plain": [
       "16.86"
      ]
     },
     "execution_count": 10,
     "metadata": {},
     "output_type": "execute_result"
    }
   ],
   "source": [
    "#find the average of cty across all the cars\n",
    "sum(float(d['cty']) for d in mpg) / len(mpg)"
   ]
  },
  {
   "cell_type": "markdown",
   "id": "2418b6c9",
   "metadata": {},
   "source": [
    "A more complex manipulation is for instance to find the average of 'cty' grouped by the number of cylinders the car has"
   ]
  },
  {
   "cell_type": "code",
   "execution_count": 11,
   "id": "66e4c975",
   "metadata": {},
   "outputs": [
    {
     "data": {
      "text/plain": [
       "{'4', '5', '6', '8'}"
      ]
     },
     "execution_count": 11,
     "metadata": {},
     "output_type": "execute_result"
    }
   ],
   "source": [
    "#first we need to find the types of cylinders available in the dataset\n",
    "cylinders = set(d['cyl'] for d in mpg)\n",
    "cylinders"
   ]
  },
  {
   "cell_type": "code",
   "execution_count": 13,
   "id": "c6d6757e",
   "metadata": {},
   "outputs": [
    {
     "data": {
      "text/plain": [
       "[('8', 12.57), ('5', 20.50), ('4', 21.01), ('6', 16.22)]"
      ]
     },
     "execution_count": 13,
     "metadata": {},
     "output_type": "execute_result"
    }
   ],
   "source": [
    "#then we create an empty list to fill with all the calculations\n",
    "cty_per_cyl = []\n",
    "\n",
    "for c in cylinders:\n",
    "    sum_value = 0\n",
    "    count = 0\n",
    "    for d in mpg :\n",
    "        if  d['cyl'] == c :\n",
    "            sum_value += float(d['cty'])\n",
    "            count += 1\n",
    "    cty_per_cyl.append((c, sum_value / count))\n",
    "cty_per_cyl"
   ]
  },
  {
   "cell_type": "markdown",
   "id": "286e70bf",
   "metadata": {},
   "source": [
    "We can sort the list to have it displayed in an ascending order in terms of the numbers of cylinders"
   ]
  },
  {
   "cell_type": "code",
   "execution_count": 14,
   "id": "b3c258ff",
   "metadata": {},
   "outputs": [
    {
     "data": {
      "text/plain": [
       "[('4', 21.01), ('5', 20.50), ('6', 16.22), ('8', 12.57)]"
      ]
     },
     "execution_count": 14,
     "metadata": {},
     "output_type": "execute_result"
    }
   ],
   "source": [
    "#sorting a list using a lambbda function\n",
    "cty_per_cyl.sort(key = lambda x: x[0])\n",
    "cty_per_cyl"
   ]
  },
  {
   "cell_type": "code",
   "execution_count": null,
   "id": "41c27320",
   "metadata": {},
   "outputs": [],
   "source": []
  }
 ],
 "metadata": {
  "kernelspec": {
   "display_name": "Python 3 (ipykernel)",
   "language": "python",
   "name": "python3"
  },
  "language_info": {
   "codemirror_mode": {
    "name": "ipython",
    "version": 3
   },
   "file_extension": ".py",
   "mimetype": "text/x-python",
   "name": "python",
   "nbconvert_exporter": "python",
   "pygments_lexer": "ipython3",
   "version": "3.9.13"
  }
 },
 "nbformat": 4,
 "nbformat_minor": 5
}
